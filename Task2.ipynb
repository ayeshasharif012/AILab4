{
 "cells": [
  {
   "cell_type": "code",
   "execution_count": 4,
   "id": "c1390995-e564-49f7-8dde-cb4a2c7b1264",
   "metadata": {},
   "outputs": [
    {
     "name": "stdout",
     "output_type": "stream",
     "text": [
      "Predictions for Task 2: [0 0]\n",
      "Confusion Matrix for Task 2:\n",
      " [[1 0]\n",
      " [1 0]]\n",
      "Accuracy for Task 2: 0.5\n",
      "Prediction for Task 2 - Classify 'youth', 'medium', 'yes', 'fair': Yes\n"
     ]
    }
   ],
   "source": [
    "from sklearn import preprocessing\n",
    "from sklearn.naive_bayes import GaussianNB\n",
    "from sklearn.model_selection import train_test_split\n",
    "from sklearn.metrics import confusion_matrix, accuracy_score\n",
    "# Task 2 Dataset\n",
    "age = [\"youth\", \"youth\", \"middle_aged\", \"senior\", \"youth\", \"youth\", \"middle_aged\", \"senior\", \"youth\", \"middle_aged\"]\n",
    "income = [\"high\", \"high\", \"high\", \"medium\", \"low\", \"low\", \"low\", \"medium\", \"medium\", \"medium\"]\n",
    "student = [\"no\", \"no\", \"no\", \"no\", \"yes\", \"yes\", \"yes\", \"yes\", \"no\", \"no\"]\n",
    "credit_rating = [\"fair\", \"excellent\", \"fair\", \"excellent\", \"fair\", \"fair\", \"excellent\", \"fair\", \"fair\", \"excellent\"]\n",
    "buy_computer = [\"no\", \"no\", \"yes\", \"yes\", \"yes\", \"no\", \"yes\", \"yes\", \"yes\", \"no\"]\n",
    "# Encode each feature separately\n",
    "age_le = preprocessing.LabelEncoder()\n",
    "income_le = preprocessing.LabelEncoder()\n",
    "student_le = preprocessing.LabelEncoder()\n",
    "credit_le = preprocessing.LabelEncoder()\n",
    "label_le = preprocessing.LabelEncoder()\n",
    "age_encoded = age_le.fit_transform(age)\n",
    "income_encoded = income_le.fit_transform(income)\n",
    "student_encoded = student_le.fit_transform(student)\n",
    "credit_encoded = credit_le.fit_transform(credit_rating)\n",
    "label_encoded = label_le.fit_transform(buy_computer)\n",
    "# Combine features into a single dataset for Task 2\n",
    "features_task2 = list(zip(age_encoded, income_encoded, student_encoded, credit_encoded))\n",
    "# Split dataset into training and testing sets for Task 2\n",
    "features_train_task2, features_test_task2, label_train_task2, label_test_task2 = train_test_split(features_task2, label_encoded, test_size=0.2, random_state=42)\n",
    "# Train the Naive Bayes model for Task 2\n",
    "model_task2 = GaussianNB()\n",
    "model_task2.fit(features_train_task2, label_train_task2)\n",
    "# Predictions and evaluations\n",
    "predicted_task2 = model_task2.predict(features_test_task2)\n",
    "print(\"Predictions for Task 2:\", predicted_task2)\n",
    "# Confusion Matrix and Accuracy for Task 2\n",
    "conf_mat_task2 = confusion_matrix(label_test_task2, predicted_task2)\n",
    "print(\"Confusion Matrix for Task 2:\\n\", conf_mat_task2)\n",
    "accuracy_task2 = accuracy_score(label_test_task2, predicted_task2)\n",
    "print(\"Accuracy for Task 2:\", accuracy_task2)\n",
    "# Specific Prediction: Classify 'youth', 'medium', 'yes', 'fair'\n",
    "test_age = age_le.transform([\"youth\"])[0]\n",
    "test_income = income_le.transform([\"medium\"])[0]\n",
    "test_student = student_le.transform([\"yes\"])[0]\n",
    "test_credit = credit_le.transform([\"fair\"])[0]\n",
    "prediction_task2 = model_task2.predict([[test_age, test_income, test_student, test_credit]])\n",
    "print(\"Prediction for Task 2 - Classify 'youth', 'medium', 'yes', 'fair':\", \"Yes\" if prediction_task2[0] == 1 else \"No\")"
   ]
  },
  {
   "cell_type": "code",
   "execution_count": null,
   "id": "bdaa48d4-fbc9-4cac-84b0-72d33d1fccc8",
   "metadata": {},
   "outputs": [],
   "source": []
  }
 ],
 "metadata": {
  "kernelspec": {
   "display_name": "Python 3 (ipykernel)",
   "language": "python",
   "name": "python3"
  },
  "language_info": {
   "codemirror_mode": {
    "name": "ipython",
    "version": 3
   },
   "file_extension": ".py",
   "mimetype": "text/x-python",
   "name": "python",
   "nbconvert_exporter": "python",
   "pygments_lexer": "ipython3",
   "version": "3.11.7"
  }
 },
 "nbformat": 4,
 "nbformat_minor": 5
}

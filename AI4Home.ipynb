{
 "cells": [
  {
   "cell_type": "code",
   "execution_count": 8,
   "id": "f12cafd7-e875-4d3e-be7a-44007d7163e7",
   "metadata": {},
   "outputs": [
    {
     "name": "stdout",
     "output_type": "stream",
     "text": [
      "Confusion Matrix:\n",
      "[[1 0]\n",
      " [3 1]]\n",
      "Accuracy: 40.00%\n",
      "The predicted bioluminescence for the plant with Height = 40 cm and Toxicity Level = 6 is: Yes\n"
     ]
    }
   ],
   "source": [
    "import pandas as pd\n",
    "from sklearn.model_selection import train_test_split\n",
    "from sklearn.naive_bayes import GaussianNB\n",
    "from sklearn.metrics import confusion_matrix, accuracy_score\n",
    "from sklearn.preprocessing import StandardScaler\n",
    "data = {'Height': [50, 30, 20, 40, 70, 25, 15, 10, 45, 60, 35, 55, 80, 65, 28],\n",
    "        'Toxicity Level': [7, 2, 8, 5, 6, 4, 3, 2, 9, 6, 4, 7, 5, 3, 6],\n",
    "        'Bioluminescence': ['Yes', 'No', 'Yes', 'Yes', 'No', 'No', 'Yes', 'No', 'Yes', 'Yes', 'No', 'Yes', 'No', 'Yes', 'No']}\n",
    "df = pd.DataFrame(data)\n",
    "df['Bioluminescence'] = df['Bioluminescence'].map({'Yes': 1, 'No': 0})\n",
    "X = df[['Height', 'Toxicity Level']]\n",
    "y = df['Bioluminescence']\n",
    "scaler = StandardScaler()\n",
    "X_scaled = scaler.fit_transform(X)\n",
    "X_train, X_test, y_train, y_test = train_test_split(X_scaled, y, test_size=0.3, random_state=42)\n",
    "model = GaussianNB()\n",
    "model.fit(X_train, y_train)\n",
    "y_pred = model.predict(X_test)\n",
    "cm = confusion_matrix(y_test, y_pred)\n",
    "accuracy = accuracy_score(y_test, y_pred)\n",
    "print(\"Confusion Matrix:\")\n",
    "print(cm)\n",
    "print(f\"Accuracy: {accuracy * 100:.2f}%\")\n",
    "new_plant = pd.DataFrame([[40, 6]], columns=['Height', 'Toxicity Level'])\n",
    "new_plant_scaled = scaler.transform(new_plant)\n",
    "new_prediction = model.predict(new_plant_scaled)\n",
    "predicted_bioluminescence = 'Yes' if new_prediction[0] == 1 else 'No'\n",
    "print(f\"The predicted bioluminescence for the plant with Height = 40 cm and Toxicity Level = 6 is: {predicted_bioluminescence}\")"
   ]
  },
  {
   "cell_type": "code",
   "execution_count": null,
   "id": "b2f102c5-0d1d-4493-a447-a12b3c815170",
   "metadata": {},
   "outputs": [],
   "source": []
  }
 ],
 "metadata": {
  "kernelspec": {
   "display_name": "Python 3 (ipykernel)",
   "language": "python",
   "name": "python3"
  },
  "language_info": {
   "codemirror_mode": {
    "name": "ipython",
    "version": 3
   },
   "file_extension": ".py",
   "mimetype": "text/x-python",
   "name": "python",
   "nbconvert_exporter": "python",
   "pygments_lexer": "ipython3",
   "version": "3.13.0"
  }
 },
 "nbformat": 4,
 "nbformat_minor": 5
}

{
 "cells": [
  {
   "cell_type": "code",
   "execution_count": 4,
   "id": "07c19a1d-d451-4ffa-842d-dd08847ac329",
   "metadata": {},
   "outputs": [
    {
     "name": "stdout",
     "output_type": "stream",
     "text": [
      "Predictions for Task 1: [0 1 0]\n",
      "Confusion Matrix for Task 1:\n",
      " [[1 0]\n",
      " [1 1]]\n",
      "Accuracy for Task 1: 0.6666666666666666\n",
      "Will players play? Prediction for Task 1: Yes\n"
     ]
    }
   ],
   "source": [
    "from sklearn import preprocessing\n",
    "from sklearn.naive_bayes import GaussianNB\n",
    "from sklearn.model_selection import train_test_split\n",
    "from sklearn.metrics import confusion_matrix, accuracy_score\n",
    "weather = [\"Sunny\", \"Sunny\", \"Overcast\", \"Rainy\", \"Rainy\", \"Rainy\", \"Overcast\", \"Sunny\", \"Sunny\", \"Rainy\", \"Sunny\", \"Overcast\", \"Overcast\", \"Rainy\"]\n",
    "temperature = [\"Hot\", \"Hot\", \"Hot\", \"Mild\", \"Cool\", \"Cool\", \"Cool\", \"Mild\", \"Cool\", \"Mild\", \"Mild\", \"Mild\", \"Hot\", \"Mild\"]\n",
    "play = [\"No\", \"No\", \"Yes\", \"Yes\", \"Yes\", \"No\", \"Yes\", \"No\", \"Yes\", \"Yes\", \"Yes\", \"Yes\", \"Yes\", \"No\"]\n",
    "# Encode each feature separately\n",
    "weather_le = preprocessing.LabelEncoder()\n",
    "temperature_le = preprocessing.LabelEncoder()\n",
    "play_le = preprocessing.LabelEncoder()\n",
    "weather_encoded = weather_le.fit_transform(weather)\n",
    "temp_encoded = temperature_le.fit_transform(temperature)\n",
    "play_encoded = play_le.fit_transform(play)\n",
    "# Combine features into a single dataset\n",
    "features = list(zip(weather_encoded, temp_encoded))\n",
    "# Split dataset into training and testing sets\n",
    "features_train, features_test, label_train, label_test = train_test_split(features, play_encoded, test_size=0.2, random_state=42)\n",
    "# Train the Naive Bayes model\n",
    "model = GaussianNB()\n",
    "model.fit(features_train, label_train)\n",
    "# Predictions and evaluations\n",
    "predicted = model.predict(features_test)\n",
    "print(\"Predictions for Task 1:\", predicted)\n",
    "# Confusion Matrix and Accuracy\n",
    "conf_mat = confusion_matrix(label_test, predicted)\n",
    "print(\"Confusion Matrix for Task 1:\\n\", conf_mat)\n",
    "accuracy = accuracy_score(label_test, predicted)\n",
    "print(\"Accuracy for Task 1:\", accuracy)\n",
    "# Specific Prediction: Predict for 'Overcast' and 'Mild'\n",
    "test_weather = weather_le.transform([\"Overcast\"])[0]\n",
    "test_temp = temperature_le.transform([\"Mild\"])[0]\n",
    "prediction_task1 = model.predict([[test_weather, test_temp]])\n",
    "print(\"Will players play? Prediction for Task 1:\", \"Yes\" if prediction_task1[0] == 1 else \"No\")"
   ]
  },
  {
   "cell_type": "code",
   "execution_count": null,
   "id": "8b50a0c8-2908-4bd7-a15d-4df71a0ff695",
   "metadata": {},
   "outputs": [],
   "source": []
  }
 ],
 "metadata": {
  "kernelspec": {
   "display_name": "Python 3 (ipykernel)",
   "language": "python",
   "name": "python3"
  },
  "language_info": {
   "codemirror_mode": {
    "name": "ipython",
    "version": 3
   },
   "file_extension": ".py",
   "mimetype": "text/x-python",
   "name": "python",
   "nbconvert_exporter": "python",
   "pygments_lexer": "ipython3",
   "version": "3.11.7"
  }
 },
 "nbformat": 4,
 "nbformat_minor": 5
}
